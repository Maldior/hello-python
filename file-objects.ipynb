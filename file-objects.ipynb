{
 "cells": [
  {
   "cell_type": "code",
   "execution_count": 37,
   "metadata": {},
   "outputs": [
    {
     "name": "stdout",
     "output_type": "stream",
     "text": [
      "prime-numbers.xlsx\n",
      "Monday\n",
      "Tuesday\n",
      "\n",
      "Monday\n",
      "Tuesday\n",
      "Wednesday\n",
      "Thrusday\n",
      "Friday\n",
      "Saturday\n",
      "SundaysMonday\n",
      "Tuesday\n",
      "Wednesday\n",
      "Thrusday\n",
      "Friday\n",
      "Saturday\n",
      "Sundays"
     ]
    }
   ],
   "source": [
    "# File objects: This is a section about how to read from, write to, generate, and in general interact with files\n",
    "# Opening files to get at their data is farily simple, the tricks come from how to organize the data and certain best\n",
    "# practices to remember when doing so. The most common way is to use the inbuilt open() function, open() also lets you \n",
    "# specify if you are opening the file just for reading, writing, or both as a second argument\n",
    "primes = open('prime-numbers.xlsx','r')\n",
    "print(primes.name)\n",
    "primes.close\n",
    "\n",
    "\n",
    "# The recommended method for opening a file is using a context manager, since otherwsie you ahve to explicitly close the \n",
    "# file or you might end up running over the maximum allowed filed descriptors and get errors.\n",
    "\n",
    "with open('test.txt','r') as weekdays:\n",
    "    weekdays_content = weekdays.read(15)\n",
    "    print(weekdays_content)\n",
    "\n",
    "# This puts everything within the block and automatically closes the file when you exit the block, it makes it easier to\n",
    "# read, edit and segment as needed, for reference the .read(15) means that its storing the firt 15 characters of the file\n",
    "# this is useful if you need to be more discriminating in what you are grabbing from a file\n",
    "with open('test.txt','r') as weekdays:\n",
    "    for line in weekdays:\n",
    "        print(line, end = '')   \n",
    "\n",
    "# You can also loop reading content from a file to avoid running out of memory from very massive files\n",
    "\n",
    "with open('test.txt','r') as weekdays:\n",
    "    characters = 15\n",
    "    weekdays_content = weekdays.read(characters)\n",
    "      \n",
    "    while len(weekdays_content) > 0:\n",
    "        print(weekdays_content, end='')\n",
    "        weekdays_content = weekdays.read(characters)\n",
    "        \n",
    "# This loop assigns the first 15 characters of the weekdays text to weekdays_content it then prints them out and continues\n",
    "# to store the next 15 characters continously and print them within the while loop, however when the file is finished it\n",
    "# returns an empty string when using the read method, so the string length would be 0 and te loop would end\n",
    "\n"
   ]
  },
  {
   "cell_type": "code",
   "execution_count": 40,
   "metadata": {},
   "outputs": [],
   "source": [
    "# Writing to Files\n",
    "\n",
    "with open('test2.txt','w') as test2:\n",
    "    test2.write('I made this, now what?')\n",
    "    test2.write(' Now this')\n",
    "\n",
    "# Using open with the write keyword, 'w', or the read write 'r+ lets you modify what is in a file, this is very delicate \n",
    "# and needs to be handled carefuly this can also be used to create new files if you name it something other than the name of a file currently in your directory\n",
    "\n",
    "with open('test.txt','r') as rf:\n",
    "    with open('test2.txt','w') as wf:\n",
    "        for line in rf:\n",
    "            wf.write(line)\n",
    "\n",
    "# When working with multiple files, particularly for read and write, nesting them like this is useful for readability,\n",
    "# the example here openes the test file that has weekdays in it in read mode, then opens the test2 file which is empty in\n",
    "# write mode, and then iterates over the lines in the read file and writes the content of said lines into the write file.\n",
    "# This way you can write the contents of very large files into other files without risking running out of memory.\n",
    "\n",
    "\n",
    "with open('island-buddha.jpg','rb') as rf:\n",
    "    with open('island-buddha-copy.jpg','wb') as wf:\n",
    "        chunk_size = 2048\n",
    "        buddha_chunk = rf.read(chunk_size)\n",
    "      \n",
    "        while len(buddha_chunk) > 0:\n",
    "            wf.write(buddha_chunk)\n",
    "            buddha_chunk = rf.read(chunk_size)\n",
    "            \n",
    "# If you are working with file types that are normally saved as bytes, such as images, you can get it to work just the \n",
    "# same by adding 'b' after the 'w' or the 'r' in the open() function. For images in particular instead of lines you would\n",
    "# use chunk size, for only copying a certain amount of bytes at a time\n",
    "        "
   ]
  }
 ],
 "metadata": {
  "kernelspec": {
   "display_name": ".venv",
   "language": "python",
   "name": "python3"
  },
  "language_info": {
   "codemirror_mode": {
    "name": "ipython",
    "version": 3
   },
   "file_extension": ".py",
   "mimetype": "text/x-python",
   "name": "python",
   "nbconvert_exporter": "python",
   "pygments_lexer": "ipython3",
   "version": "3.12.0"
  }
 },
 "nbformat": 4,
 "nbformat_minor": 2
}
