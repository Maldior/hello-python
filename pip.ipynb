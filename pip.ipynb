{
 "cells": [
  {
   "cell_type": "code",
   "execution_count": 4,
   "metadata": {},
   "outputs": [
    {
     "name": "stdout",
     "output_type": "stream",
     "text": [
      "asttokens==2.4.1\n",
      "colorama==0.4.6\n",
      "comm==0.2.0\n",
      "debugpy==1.8.0\n",
      "decorator==5.1.1\n",
      "executing==2.0.1\n",
      "ipykernel==6.26.0\n",
      "ipython==8.17.2\n",
      "jedi==0.19.1\n",
      "jupyter_client==8.6.0\n",
      "jupyter_core==5.5.0\n",
      "matplotlib-inline==0.1.6\n",
      "nest-asyncio==1.5.8\n",
      "packaging==23.2\n",
      "parso==0.8.3\n",
      "platformdirs==4.0.0\n",
      "prompt-toolkit==3.0.40\n",
      "psutil==5.9.6\n",
      "pure-eval==0.2.2\n",
      "Pygments==2.16.1\n",
      "python-dateutil==2.8.2\n",
      "pywin32==306\n",
      "pyzmq==25.1.1\n",
      "six==1.16.0\n",
      "stack-data==0.6.3\n",
      "tornado==6.3.3\n",
      "traitlets==5.13.0\n",
      "wcwidth==0.2.9\n",
      "Note: you may need to restart the kernel to use updated packages.\n"
     ]
    }
   ],
   "source": [
    "pip freeze --local"
   ]
  }
 ],
 "metadata": {
  "kernelspec": {
   "display_name": ".venv",
   "language": "python",
   "name": "python3"
  },
  "language_info": {
   "codemirror_mode": {
    "name": "ipython",
    "version": 3
   },
   "file_extension": ".py",
   "mimetype": "text/x-python",
   "name": "python",
   "nbconvert_exporter": "python",
   "pygments_lexer": "ipython3",
   "version": "3.12.0"
  }
 },
 "nbformat": 4,
 "nbformat_minor": 2
}
