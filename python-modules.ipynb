{
 "cells": [
  {
   "cell_type": "code",
   "execution_count": 2,
   "metadata": {},
   "outputs": [
    {
     "name": "stdout",
     "output_type": "stream",
     "text": [
      "3.141592653589793\n",
      "2.718281828459045\n",
      "Score: 2100\n",
      "None\n"
     ]
    }
   ],
   "source": [
    "# Modules are files that contain functions and other such functionalities you might want to use in a piece of code\n",
    "# without writing out the whole thing, there are a lot of modules in the standard python library and a lot more \n",
    "# can be found online with little effort. Though making your own modules can be very useful for more niche uses.\n",
    "# Yolu can find a list of avaulable modules with the help function, and a module can be added by using \"import\" \n",
    "# you can also nickname a module when you do so using \"import a as b\"\n",
    "# print(help(\"modules\"))\n",
    "import math as nerdy_number_stuff\n",
    "print(nerdy_number_stuff.pi)\n",
    "# This imports the math module and then you call the value of pi defined within the math module, to find what is\n",
    "# in a module you can use the help function on it\n",
    "# print(help(\"math\"))\n",
    "from math import e\n",
    "print(e)\n",
    "# You can also call specific objects within the module, which defines them in your code as they appear in the\n",
    "# module\n",
    "import scores\n",
    "print(scores.hi_score_checker(scores.score_calculator(300, 7), 20000))\n"
   ]
  }
 ],
 "metadata": {
  "kernelspec": {
   "display_name": ".venv",
   "language": "python",
   "name": "python3"
  },
  "language_info": {
   "codemirror_mode": {
    "name": "ipython",
    "version": 3
   },
   "file_extension": ".py",
   "mimetype": "text/x-python",
   "name": "python",
   "nbconvert_exporter": "python",
   "pygments_lexer": "ipython3",
   "version": "3.12.0"
  }
 },
 "nbformat": 4,
 "nbformat_minor": 2
}
