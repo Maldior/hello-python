{
 "cells": [
  {
   "cell_type": "code",
   "execution_count": 2,
   "metadata": {},
   "outputs": [],
   "source": [
    "# Datatypes (writing down notes on the various datatypes and quick tests on common methods and uses for them,\n",
    "# everything here can just be found with the help function, this exists purely to familiarize myself with datatypes\n",
    "# and their more common uses)\n",
    "# IMPORTANT FOR ALL DATATYPES, YOU CAN USE THE \"dir\" FUNCTION TO SEE ALL THE ATRIBUTES AND METHODS FOR SAID \n",
    "# DATATYPE\n"
   ]
  },
  {
   "cell_type": "code",
   "execution_count": null,
   "metadata": {},
   "outputs": [],
   "source": [
    "# Strings:\n",
    "#   Single quotes can be used in a string by escaping it with a back slash so it does not register with the \n",
    "#   initial single quote, easier to just use double quotes for defining the string, the print function can also\n",
    "#   modify the string when printing it out, such as lowercasing or uppercasing letters\n",
    "string = 'String\\'s'\n",
    "print(string.lower())\n",
    "#   making multi-line strings\n",
    "multi_line_string = \"\"\"another one bites the dust\n",
    "another one bites the dust\n",
    "and another gone\n",
    "and another gone\n",
    "another one bites the dust\"\"\"\n",
    "print(multi_line_string)\n",
    "#   Strings are series of characters and their data can be accessed via functions such as length \"len\", counting\n",
    "#   specific characters, index characters in the string can be selected with [], etc... generally you can find a\n",
    "#   way to do something to a string if you can think of it\n",
    "print(len(string))\n",
    "print(multi_line_string[15])\n",
    "print(multi_line_string[0:15])\n",
    "multi_line_string.count('one')\n",
    "#   F strings\n",
    "f_string = f'''{string.upper()} containing the song that goes:\n",
    "{multi_line_string}'''\n",
    "print(f_string)\n"
   ]
  },
  {
   "cell_type": "code",
   "execution_count": null,
   "metadata": {},
   "outputs": [],
   "source": [
    "# Numeric data: Integers and Floats\n",
    "# Key difference is that an Integer is... well an integer, it's a whole number and a discreet value, a float\n",
    "# can have decimals, you can also turn a string made of numbers into a numeric datatype with int(), all datatypes\n",
    "# have equivalent functions\n",
    "integer = '3'\n",
    "integer = int(integer)\n",
    "float = 0.7\n",
    "print(type(integer)) \n",
    "print(type(float))\n",
    "# Can be used for basically any arithmetic operations, there is also comparison checks such as \"is it equal?\"\n",
    "# \"is it greater than?\" etc... which returns a True of False boolean(remember that floor division rounds to the\n",
    "# nearest integer so you don't end up with a float if you need and int \"//\")\n",
    "print(integer == float)\n",
    "print(integer > float)\n",
    "print(integer < float)\n",
    "print(integer//float)\n",
    "# Overall the simplest and most intuitive part of the entire subject, a 10 year old would have no trouble understanding\n",
    "# this part"
   ]
  },
  {
   "cell_type": "code",
   "execution_count": 34,
   "metadata": {},
   "outputs": [
    {
     "name": "stdout",
     "output_type": "stream",
     "text": [
      "['apple', 'orange', 'pear', 'pineapple']\n",
      "apple\n",
      "pineapple\n",
      "banana\n",
      "['mango', 'banana', 'orange', 'pear', 'pineapple']\n",
      "[['mango', 'banana', 'orange', 'pear', 'pineapple'], ['chicken', 'beef', 'pork']]\n",
      "['mango', 'banana', 'orange', 'pear', 'pineapple', 'chicken', 'beef', 'pork']\n",
      "['pork', 'beef', 'chicken', 'pineapple', 'pear', 'orange', 'banana', 'mango']\n",
      "['banana', 'beef', 'chicken', 'mango', 'orange', 'pear', 'pineapple', 'pork']\n",
      "['pork', 'pineapple', 'pear', 'orange', 'mango', 'chicken', 'beef', 'banana']\n",
      "False\n",
      "True\n",
      "pork - pineapple - pear - orange - mango - chicken - beef - banana\n",
      "['pork', 'pineapple', 'pear', 'orange', 'mango', 'chicken', 'beef', 'banana']\n",
      "['pork', 'pineapple', 'pear', 'orange', 'mango', 'chicken', 'beef', 'banana']\n",
      "{'orange', 'pineapple', 'apple', 'pear'}\n",
      "{'orange', 'pineapple', 'pear'}\n",
      "{'apple'}\n"
     ]
    }
   ],
   "source": [
    "# Lists, Tuples, and Sets\n",
    "# Abstract datatypes that store data of other types, the main difference between Lists and Tuples is that you can\n",
    "# modify a List after creating it, tuples are immutable. As for sets they differ in that you cannot have duplicates\n",
    "# in a set, the data in it can be in orders different from the order in whichc they are added to the set, and you \n",
    "# can't call data in a set via index or key, to change an item in a set you would need to remove it and then add \n",
    "# a new one\n",
    "list_fruits = ['apple', 'orange', 'pear', 'pineapple']\n",
    "print(list_fruits)\n",
    "print(list_fruits[0])\n",
    "print(list_fruits[-1])\n",
    "list_fruits[0] = 'banana'\n",
    "print(list_fruits[0])\n",
    "list_fruits.insert(0, 'mango')\n",
    "print(list_fruits)\n",
    "# you can also have a list as an element of a list by using the insert method or just by defining it\n",
    "list_meats = ['chicken', 'beef', 'pork']\n",
    "list_foods = [list_fruits, list_meats]\n",
    "print(list_foods)\n",
    "# alternatively you can combine lists with the extend method\n",
    "list_fruits.extend(list_meats)\n",
    "print(list_fruits)\n",
    "# there is a lot of methods for manipulating lists overall, as always the dir function can show them\n",
    "# a big advantage of lists is that they are sortable, with various methods dedicated to ordering and sorting data\n",
    "list_fruits.reverse()\n",
    "print(list_fruits)\n",
    "list_fruits.sort()\n",
    "print(list_fruits)\n",
    "list_fruits.sort(reverse=True)\n",
    "print(list_fruits)\n",
    "# if you want a sorted version of a list without altering the original list you can use the sorted() function \n",
    "# which returns a sorted version of the list you can define as a new list.\n",
    "print('cantaloupe' in list_fruits)\n",
    "print('orange' in list_fruits)\n",
    "# a very common thing to do is to turn a list into a string of values, the .join method is an effective way\n",
    "foods_string = ' - '.join(list_fruits)\n",
    "print(foods_string)\n",
    "foods_list = foods_string.split(' - ')\n",
    "print(foods_list)\n",
    "# a tuple is the same except it cannot be altered, so it is good for storing data you want to read but not alter\n",
    "# the original \n",
    "fruits_tuple = foods_list\n",
    "print(fruits_tuple)\n",
    "# sets are not ordered and cannot store duplicates, can be used or membership tests more efficiently than lists, \n",
    "# and you can compare sets to see if they share values for easily \n",
    "fruits_set = {'apple', 'orange', 'pear', 'pineapple'}\n",
    "foods_set = {'pork', 'beef', 'chicken', 'pineapple', 'pear', 'orange', 'banana', 'mango'}\n",
    "print(fruits_set)\n",
    "print(fruits_set.intersection(foods_set))\n",
    "print(fruits_set.difference(foods_set))\n"
   ]
  },
  {
   "cell_type": "code",
   "execution_count": 37,
   "metadata": {},
   "outputs": [
    {
     "name": "stdout",
     "output_type": "stream",
     "text": [
      "Toyota\n",
      "LK3H45\n"
     ]
    }
   ],
   "source": [
    "# Key Value pairs\n",
    "# effectively a series of values asociated to a category (the key) that can be tracked in the same group\n",
    "# Dictionaries are almost identical to sets, except that a set only has the keys, no values attached\n",
    "car = {'brand': 'Toyota', 'age': 5, 'milleage': '10000'}\n",
    "car[ 'license'] = 'LK3H45'\n",
    "print(car['brand'])\n",
    "print(car.get('license'))"
   ]
  }
 ],
 "metadata": {
  "kernelspec": {
   "display_name": ".venv",
   "language": "python",
   "name": "python3"
  },
  "language_info": {
   "codemirror_mode": {
    "name": "ipython",
    "version": 3
   },
   "file_extension": ".py",
   "mimetype": "text/x-python",
   "name": "python",
   "nbconvert_exporter": "python",
   "pygments_lexer": "ipython3",
   "version": "3.12.0"
  }
 },
 "nbformat": 4,
 "nbformat_minor": 2
}
