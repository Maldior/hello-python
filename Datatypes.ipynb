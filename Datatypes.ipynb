{
 "cells": [
  {
   "cell_type": "code",
   "execution_count": 18,
   "metadata": {},
   "outputs": [
    {
     "name": "stdout",
     "output_type": "stream",
     "text": [
      "string's\n",
      "another one bites the dust\n",
      "another one bites the dust\n",
      "and another gone\n",
      "and another gone\n",
      "another one bites the dust\n",
      "8\n",
      "e\n",
      "another one bit\n",
      "String's containing the song that goes:\n",
      "another one bites the dust\n",
      "another one bites the dust\n",
      "and another gone\n",
      "and another gone\n",
      "another one bites the dust\n"
     ]
    }
   ],
   "source": [
    "# Datatypes\n",
    "# Strings:\n",
    "#   Single quotes can be used in a string by escaping it with a back slash so it does not register with the \n",
    "#   initial single quote, easier to just use double quotes for defining the string, the print function can also\n",
    "#   modify the string when printing it out, such as lowercasing or uppercasing letters\n",
    "string = 'String\\'s'\n",
    "print(string.lower())\n",
    "#   making multi-line strings\n",
    "multi_line_string = \"\"\"another one bites the dust\n",
    "another one bites the dust\n",
    "and another gone\n",
    "and another gone\n",
    "another one bites the dust\"\"\"\n",
    "print(multi_line_string)\n",
    "#   Strings are series of characters and their data can be accessed via functions such as length \"len\", counting\n",
    "#   specific characters, index characters in the string can be selected with [], etc... generally you can find a\n",
    "#   way to do something to a string if you can think of it\n",
    "print(len(string))\n",
    "print(multi_line_string[15])\n",
    "print(multi_line_string[0:15])\n",
    "multi_line_string.count('one')\n",
    "#   F strings\n",
    "f_string = f'''{string} containing the song that goes:\n",
    "{multi_line_string}'''\n",
    "print(f_string)"
   ]
  },
  {
   "cell_type": "code",
   "execution_count": null,
   "metadata": {},
   "outputs": [],
   "source": []
  }
 ],
 "metadata": {
  "kernelspec": {
   "display_name": ".venv",
   "language": "python",
   "name": "python3"
  },
  "language_info": {
   "codemirror_mode": {
    "name": "ipython",
    "version": 3
   },
   "file_extension": ".py",
   "mimetype": "text/x-python",
   "name": "python",
   "nbconvert_exporter": "python",
   "pygments_lexer": "ipython3",
   "version": "3.12.0"
  }
 },
 "nbformat": 4,
 "nbformat_minor": 2
}
