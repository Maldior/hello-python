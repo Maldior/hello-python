{
 "cells": [
  {
   "cell_type": "code",
   "execution_count": 2,
   "metadata": {},
   "outputs": [],
   "source": [
    "# Datatypes (writing down notes on the various datatypes and quick tests on common methods and uses for them,\n",
    "# everything here can just be found with the help function, this exists purely to familiarize myself with datatypes\n",
    "# and their more common uses)\n",
    "# IMPORTANT FOR ALL DATATYPES, YOU CAN USE THE \"dir\" FUNCTION TO SEE ALL THE ATRIBUTES AND METHODS FOR SAID \n",
    "# DATATYPE\n"
   ]
  },
  {
   "cell_type": "code",
   "execution_count": 3,
   "metadata": {},
   "outputs": [
    {
     "name": "stdout",
     "output_type": "stream",
     "text": [
      "string's\n",
      "another one bites the dust\n",
      "another one bites the dust\n",
      "and another gone\n",
      "and another gone\n",
      "another one bites the dust\n",
      "8\n",
      "e\n",
      "another one bit\n",
      "STRING'S containing the song that goes:\n",
      "another one bites the dust\n",
      "another one bites the dust\n",
      "and another gone\n",
      "and another gone\n",
      "another one bites the dust\n"
     ]
    }
   ],
   "source": [
    "# Strings:\n",
    "#   Single quotes can be used in a string by escaping it with a back slash so it does not register with the \n",
    "#   initial single quote, easier to just use double quotes for defining the string, the print function can also\n",
    "#   modify the string when printing it out, such as lowercasing or uppercasing letters\n",
    "string = 'String\\'s'\n",
    "print(string.lower())\n",
    "#   making multi-line strings\n",
    "multi_line_string = \"\"\"another one bites the dust\n",
    "another one bites the dust\n",
    "and another gone\n",
    "and another gone\n",
    "another one bites the dust\"\"\"\n",
    "print(multi_line_string)\n",
    "#   Strings are series of characters and their data can be accessed via functions such as length \"len\", counting\n",
    "#   specific characters, index characters in the string can be selected with [], etc... generally you can find a\n",
    "#   way to do something to a string if you can think of it\n",
    "print(len(string))\n",
    "print(multi_line_string[15])\n",
    "print(multi_line_string[0:15])\n",
    "multi_line_string.count('one')\n",
    "#   F strings\n",
    "f_string = f'''{string.upper()} containing the song that goes:\n",
    "{multi_line_string}'''\n",
    "print(f_string)\n"
   ]
  },
  {
   "cell_type": "code",
   "execution_count": 9,
   "metadata": {},
   "outputs": [
    {
     "name": "stdout",
     "output_type": "stream",
     "text": [
      "<class 'int'>\n",
      "<class 'float'>\n",
      "False\n",
      "True\n",
      "False\n",
      "4.0\n"
     ]
    }
   ],
   "source": [
    "# Numeric data: Integers and Floats\n",
    "# Key difference is that an Integer is... well an integer, it's a whole number and a discreet value, a float\n",
    "# can have decimals, you can also turn a string made of numbers into a numeric datatype with int(), all datatypes\n",
    "# have equivalent functions\n",
    "integer = '3'\n",
    "integer = int(integer)\n",
    "float = 0.7\n",
    "print(type(integer)) \n",
    "print(type(float))\n",
    "# Can be used for basically any arithmetic operations, there is also comparison checks such as \"is it equal?\"\n",
    "# \"is it greater than?\" etc... which returns a True of False boolean(remember that floor division rounds to the\n",
    "# nearest integer so you don't end up with a float if you need and int \"//\")\n",
    "print(integer == float)\n",
    "print(integer > float)\n",
    "print(integer < float)\n",
    "print(integer//float)\n",
    "# Overall the simplest and most intuitive part of the entire subject, a 10 year old would have no trouble understanding\n",
    "# this part"
   ]
  }
 ],
 "metadata": {
  "kernelspec": {
   "display_name": ".venv",
   "language": "python",
   "name": "python3"
  },
  "language_info": {
   "codemirror_mode": {
    "name": "ipython",
    "version": 3
   },
   "file_extension": ".py",
   "mimetype": "text/x-python",
   "name": "python",
   "nbconvert_exporter": "python",
   "pygments_lexer": "ipython3",
   "version": "3.12.0"
  }
 },
 "nbformat": 4,
 "nbformat_minor": 2
}
