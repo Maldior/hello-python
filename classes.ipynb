{
 "cells": [
  {
   "cell_type": "code",
   "execution_count": 58,
   "metadata": {},
   "outputs": [
    {
     "name": "stdout",
     "output_type": "stream",
     "text": [
      "Hit! 15 damage dealt!\n",
      "12\n",
      "13\n"
     ]
    }
   ],
   "source": [
    "# Classes:\n",
    "# Classes allow us to logically group data and functions in a way that is easy to reuse and simplify the overall \n",
    "# code, the data in a class is called its \"atributtes\" and the functions related to it are its \"methods\". Step \n",
    "# 1 is instating a class. When defining a class we are basically creating a new type that an object can be. So\n",
    "# if we made a class for 'characters' with various attributes, we could use that to more quickly define RPG \n",
    "# characters. Each of these characters would be an \"instance\" of the class\n",
    "import random\n",
    "class character:\n",
    "    health_increase_amount = 1.10\n",
    "    def __init__(self, health, weapon_damage, clothing, skill, strength):\n",
    "        self.weapon_damage = weapon_damage\n",
    "        self.health = health\n",
    "        self.clothing = clothing\n",
    "        self.skill = skill\n",
    "        self.dmg_mod = (strength - 10) // 2\n",
    "    \n",
    "    def hit_damage (self):\n",
    "        return 'Hit! ' + str(random.randint(1,self.weapon_damage) + self.dmg_mod) + ' damage dealt!'\n",
    "    \n",
    "    def increase_health(self):\n",
    "        self.health = int(self.health * self.health_increase_amount)\n",
    "    \n",
    "barbarian = character(12, 12, 'Loincloth', 'Survival', 20)\n",
    "cleric = character(6, 50, 'Half-Plate', 'Cooking', 9999)\n",
    "cleric.weapon_damage = 8\n",
    "cleric.health = 8\n",
    "cleric.clothing = 'Robes'\n",
    "cleric.skill = 'Theology'\n",
    "cleric.dmg_mod = 1\n",
    "# You can modify the attributes of a class instancce as shown with the cleric instance, where the wrong attributes\n",
    "# are corrected after initializing the instance, or they can be declared automatically via an init method defined\n",
    "# in the class as shown with the barbarian instance\n",
    "print(barbarian.hit_damage())\n",
    "# Aside from the instance variables, defined for each instance, you also have class variables, which are shared for\n",
    "# every instance of the class, mostly to ease modification, here the class variable is the percentage of health\n",
    "# gained per level, which is 10% across all instances\n",
    "print(barbarian.health)\n",
    "barbarian.increase_health()\n",
    "print(barbarian.health)\n"
   ]
  }
 ],
 "metadata": {
  "kernelspec": {
   "display_name": ".venv",
   "language": "python",
   "name": "python3"
  },
  "language_info": {
   "codemirror_mode": {
    "name": "ipython",
    "version": 3
   },
   "file_extension": ".py",
   "mimetype": "text/x-python",
   "name": "python",
   "nbconvert_exporter": "python",
   "pygments_lexer": "ipython3",
   "version": "3.12.0"
  }
 },
 "nbformat": 4,
 "nbformat_minor": 2
}
