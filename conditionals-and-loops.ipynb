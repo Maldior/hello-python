{
 "cells": [
  {
   "cell_type": "code",
   "execution_count": null,
   "metadata": {},
   "outputs": [],
   "source": [
    "# Conditionals and Loops (writing down notes on conditionals, loops and quick tests on uses for them,  everything\n",
    "# here can just be found with the help function and is pretty basic, this exists purely to familiarize myself\n",
    "# with how these tools work in Python and their more common uses)\n"
   ]
  },
  {
   "cell_type": "code",
   "execution_count": 16,
   "metadata": {},
   "outputs": [
    {
     "name": "stdout",
     "output_type": "stream",
     "text": [
      "value is less than or equal to 8\n",
      "True\n",
      "False\n",
      "List is empty, please fill\n",
      "Bin is full, please empty\n"
     ]
    }
   ],
   "source": [
    "# Booleans and conditionals (if, else, and elif statements)\n",
    "# A Boolean is just a value that represents either True or False, their most common use is that conditionals use\n",
    "# them to determine wether or not to operate and certain functions tend to return a Boolean, which can then be \n",
    "# used to trigger conditionals. Conditionals can also have multiple triggers based on \"and\", \"or\", and \"not\"\n",
    "value = 8\n",
    "check_for_equality = False\n",
    "if value > 8:\n",
    "    print('value was greater than 8')\n",
    "elif value == 8 and check_for_equality:\n",
    "    print('values is equal to 8')\n",
    "else:\n",
    "    print('value is less than or equal to 8')\n",
    "# You can stack elif statements without limit, though that can be very inefficient, treat them like a switch for\n",
    "# key moments, not as the backbone of the whole script. An important checker is the \"is\" condition, rather than \n",
    "# checking if the value is the same as \"==\" does, it instead check if it has the same id\n",
    "asset = 5000\n",
    "liability = 5000\n",
    "\n",
    "print(asset == liability)\n",
    "print(asset is liability)\n",
    "\n",
    "# Important to note, stuff other than \"False\" is detected as False by conditionals, such as:\n",
    "#   0 in any numeric datatype\n",
    "#   None\n",
    "#   Empty sequences such as [], (), '' \n",
    "#   Empty sets {}\n",
    "# Everything esle evaluates to True\n",
    "empty = []\n",
    "full = 999\n",
    "if empty:\n",
    "    print('List is not empty, please delete')\n",
    "else:\n",
    "    print('List is empty, please fill')\n",
    "if full:\n",
    "    print('Bin is full, please empty')\n",
    "else:\n",
    "    print('Bin is not full')"
   ]
  },
  {
   "cell_type": "code",
   "execution_count": 29,
   "metadata": {},
   "outputs": [
    {
     "name": "stdout",
     "output_type": "stream",
     "text": [
      "Steven\n",
      "Susan\n",
      "Invalid Name\n",
      "Steven\n",
      "A Michael\n",
      "B Michael\n",
      "C Michael\n",
      "D Michael\n",
      "A Steven\n",
      "B Steven\n",
      "C Steven\n",
      "D Steven\n",
      "A Susan\n",
      "B Susan\n",
      "C Susan\n",
      "D Susan\n",
      "A Jordan\n",
      "B Jordan\n",
      "C Jordan\n",
      "D Jordan\n",
      "0\n",
      "1\n",
      "2\n",
      "3\n",
      "4\n",
      "0\n",
      "1\n",
      "2\n",
      "3\n",
      "4\n",
      "5\n",
      "6\n",
      "7\n",
      "8\n",
      "9\n",
      "10\n",
      "11\n",
      "12\n",
      "13\n",
      "14\n",
      "15\n",
      "16\n",
      "17\n",
      "18\n",
      "19\n"
     ]
    }
   ],
   "source": [
    "# For and While loops\n",
    "# For loops loop over a sequence, normally in the form of an abstract datatype like a list, a dictionary, or a \n",
    "# set, While loops on the other hand run as long as a certain condition is detected as true\n",
    "names = ['Michael', 'Steven', 'Susan', 'Jordan']\n",
    "for name in names:\n",
    "    if name[0] == 'S':\n",
    "        print(name)\n",
    "# The loop runs through every index in the list, the checks if the first character of the string is S, and then\n",
    "# prints out names starting with 'S' \n",
    "for name in names:\n",
    "    if name[0] == 'S':\n",
    "        print(name)\n",
    "        break\n",
    "    print('Invalid Name')\n",
    "# This version stops the loop as soon as the first name starting with S is found, you can replace 'break' with \n",
    "# 'continue' to instead make it jump to the next iteration of the loop. You can have a for loop inside of a \n",
    "# for loop and you can define a for loops range in its declaration. If you want a loop that runs a certain amount\n",
    "# of times you can also use the range function\n",
    "for name in names:\n",
    "    for group in 'ABCD':\n",
    "        print(group, name)\n",
    "for i in range(5):\n",
    "    print(i)\n",
    "# While loops operate as long as a condition is true or until a break is hit\n",
    "w = 0\n",
    "while w < 20:\n",
    "    print(w)\n",
    "    w += 1\n",
    "# Not much else to say about While Loops, they are very useful and will likely be used on almost anything you write, \n",
    "# but thats more as a virtue of using everything else within them."
   ]
  }
 ],
 "metadata": {
  "kernelspec": {
   "display_name": ".venv",
   "language": "python",
   "name": "python3"
  },
  "language_info": {
   "codemirror_mode": {
    "name": "ipython",
    "version": 3
   },
   "file_extension": ".py",
   "mimetype": "text/x-python",
   "name": "python",
   "nbconvert_exporter": "python",
   "pygments_lexer": "ipython3",
   "version": "3.12.0"
  }
 },
 "nbformat": 4,
 "nbformat_minor": 2
}
