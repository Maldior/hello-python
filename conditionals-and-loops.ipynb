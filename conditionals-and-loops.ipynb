{
 "cells": [
  {
   "cell_type": "code",
   "execution_count": null,
   "metadata": {},
   "outputs": [],
   "source": [
    "# Conditionals and Loops (writing down notes on conditionals, loops and quick tests on uses for them,  everything\n",
    "# here can just be found with the help function and is pretty basic, this exists purely to familiarize myself\n",
    "# with how these tools work in Python and their more common uses)\n"
   ]
  },
  {
   "cell_type": "code",
   "execution_count": 15,
   "metadata": {},
   "outputs": [
    {
     "name": "stdout",
     "output_type": "stream",
     "text": [
      "value is less than or equal to 8\n",
      "True\n",
      "False\n",
      "List is empty, please fill\n",
      "Bin is full, please empty\n"
     ]
    }
   ],
   "source": [
    "# Booleans and conditionals (if, else, and elif statements)\n",
    "# A Boolean is just a value that represents either True or False, their most common use is that conditionals use\n",
    "# them to determine wether or not to operate and certain functions tend to return a Boolean, which can then be \n",
    "# used to trigger conditionals. Conditionals can also have multiple triggers based on \"and\", \"or\", and \"not\"\n",
    "value = 8\n",
    "check_for_equality = False\n",
    "if value > 8:\n",
    "    print('value was greater than 8')\n",
    "elif value == 8 and check_for_equality:\n",
    "    print('values is equal to 8')\n",
    "else:\n",
    "    print('value is less than or equal to 8')\n",
    "# You can stack elif statements without limit, though that can be very inefficient, treat them like a switch for\n",
    "# key moments, not as the backbone of the whole script. An important checker is the \"is\" condition, rather than \n",
    "# checking if the value is the same as \"==\" does, it instead check if it has the same id\n",
    "asset = 5000\n",
    "liability = 5000\n",
    "\n",
    "print(asset == liability)\n",
    "print(asset is liability)\n",
    "\n",
    "# Important to note, stuff other than \"False\" is detected as False by conditionals, such as:\n",
    "#   0 in any numeric datatype\n",
    "#   None\n",
    "#   Empty sequences such as [], (), '' \n",
    "#   Empty sets {}\n",
    "# Everything esle evaluates to True\n",
    "empty = []\n",
    "full = 999\n",
    "if empty:\n",
    "    print('List is not empty, please delete')\n",
    "else:\n",
    "    print('List is empty, please fill')\n",
    "if full:\n",
    "    print('Bin is full, please empty')\n",
    "else:\n",
    "    print('Bin is not full')"
   ]
  }
 ],
 "metadata": {
  "kernelspec": {
   "display_name": ".venv",
   "language": "python",
   "name": "python3"
  },
  "language_info": {
   "codemirror_mode": {
    "name": "ipython",
    "version": 3
   },
   "file_extension": ".py",
   "mimetype": "text/x-python",
   "name": "python",
   "nbconvert_exporter": "python",
   "pygments_lexer": "ipython3",
   "version": "3.12.0"
  }
 },
 "nbformat": 4,
 "nbformat_minor": 2
}
