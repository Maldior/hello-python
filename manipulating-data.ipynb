{
 "cells": [
  {
   "cell_type": "code",
   "execution_count": null,
   "metadata": {},
   "outputs": [],
   "source": [
    "# File with general important information regarding the manipulation of data in python, writing functions, etc...\n",
    "# Variable Scope is what determines where variables can be accessed from in the program and their values\n",
    "# LEGB \n",
    "# Local: A variable defined within a function\n",
    "# Enclosing: In the local scope of an enclosing function\n",
    "# Global: Defined at the top of a module or defined with the \"global\" keyword\n",
    "# Built-in: preassigned in python\n",
    "# Python checks the values of variables in this order, such that if its defined in multiple places it grabs the\n",
    "# one higher in the hierarchy\n",
    "\n",
    "x = 'global x'\n",
    "\n",
    "def legb_test():\n",
    "    y = 'local y'\n",
    "    x = 'local x'\n",
    "    print(x)\n",
    "    \n",
    "legb_test()\n",
    "print(x)\n",
    "# print(y) does not work because the local variable y only exists within the function it is defined, being outside\n",
    "# the function this print cant see it. Alternatively you can set a global variable within a function\n",
    "\n",
    "def global_setter():\n",
    "    global x\n",
    "    x = 'new global x'\n",
    "    \n",
    "global_setter()\n",
    "print(x)\n",
    "\n",
    "# a built-in is a value that is built into the system, such as the variables found within a built-in function \n",
    "# like \"min\"\n",
    "z = min([3,8,5,66,24,875])\n",
    "print(z)\n",
    "\n",
    "# Enclosed refers to the values of variables defined in functions nested in other functions, its basically just \n",
    "# hierarchy levels to Local variables, with the variables deeper in the nesting having lower priority. It checks\n",
    "# if it has values within the local scope of functions that enclose it if it doesnt have its own local value. \n",
    "# Same as \"global x\" you could use \"nonlocal x\" to make a variable in an enclosed function affect all definitions\n",
    "# of x within the enclosing function without affecting anything outside the purview of said functions"
   ]
  },
  {
   "cell_type": "code",
   "execution_count": null,
   "metadata": {},
   "outputs": [],
   "source": [
    "# Slicing Lists: A way to extract specific elements from lists and strings\n",
    "my_list = [11, 22, 33, 44, 55, 66, 77]\n",
    "print (my_list[0])\n",
    "# It is incredibly simply, you just use [] for determining which index address within the list or string  you are\n",
    "# refering to, the only thing really worth noting is that you can use negative numbers to go from the end of the\n",
    "# list towards the start, with the last address being -1 and that you can call multiple indexes using x:y:step\n",
    "print(my_list[-2])\n",
    "print(my_list[0:6:3])\n",
    "# this can also be useful to do tricks like reversing a list or string, or editing in our out parts of it\n",
    "sample_string = 'This is not a Palindrome'\n",
    "reversed_sample = sample_string[::-1]\n",
    "print(sample_string)\n",
    "print(reversed_sample)"
   ]
  },
  {
   "cell_type": "code",
   "execution_count": 21,
   "metadata": {},
   "outputs": [
    {
     "name": "stdout",
     "output_type": "stream",
     "text": [
      "['Michael', 'Eliza', 'Stephanie', 'Jordie', 'Ethan']\n",
      "[2, 5.0, 6, 9.4, 10, 12, 14, 16, 18]\n",
      "[2, 5.0, 6, 9.4, 10, 12, 14, 16, 18]\n",
      "['1 is a number that exists', '2.5 is not a whole number', '3 is a number that exists', '4.7 is not a whole number', '5 is a number that exists', '6 is a number that exists', '7 is a number that exists', '8 is a number that exists', '9 is a number that exists']\n",
      "['Mike', 'Nicole', 'Rachel', 'Mike', 'Ethan']\n",
      "[('Michael', 1), ('Michael', 2.5), ('Michael', 3), ('Michael', 4.7), ('Michael', 5), ('Michael', 6), ('Michael', 7), ('Michael', 8), ('Michael', 9), ('Eliza', 1), ('Eliza', 2.5), ('Eliza', 3), ('Eliza', 4.7), ('Eliza', 5), ('Eliza', 6), ('Eliza', 7), ('Eliza', 8), ('Eliza', 9), ('Stephanie', 1), ('Stephanie', 2.5), ('Stephanie', 3), ('Stephanie', 4.7), ('Stephanie', 5), ('Stephanie', 6), ('Stephanie', 7), ('Stephanie', 8), ('Stephanie', 9), ('Jordie', 1), ('Jordie', 2.5), ('Jordie', 3), ('Jordie', 4.7), ('Jordie', 5), ('Jordie', 6), ('Jordie', 7), ('Jordie', 8), ('Jordie', 9), ('Ethan', 1), ('Ethan', 2.5), ('Ethan', 3), ('Ethan', 4.7), ('Ethan', 5), ('Ethan', 6), ('Ethan', 7), ('Ethan', 8), ('Ethan', 9)]\n",
      "{'Radical': 'Michael', 'Extreme': 'Eliza', 'Giant': 'Stephanie', 'Epic': 'Jordie', 'Awesome': 'Ethan'}\n"
     ]
    }
   ],
   "source": [
    "# List Comprehensions: An alternate way to make a list that is easier and faster\n",
    "names = ['Michael', 'Eliza', 'Stephanie', 'Jordie', 'Ethan']\n",
    "nums = [1, 2.5, 3, 4.7, 5, 6, 7, 8, 9]\n",
    "#defining a couple lists to be the \"dataset\"\n",
    "my_list = [n for n in names]\n",
    "print(my_list)\n",
    "# This basically goes through a for loop appending each element in the list 'names' to the list 'my_list'\n",
    "# The big thing is that you can alter the comprehension statement to directly modify the data while making the \n",
    "# new list, saving you time from writing for loops for every last bit\n",
    "my_doubled_list = [n*2 for n in nums]\n",
    "print(my_doubled_list)\n",
    "# Comprehensions can also be used with maps and lambdas, letting you list it directly\n",
    "print(list(map(lambda n: n*2,nums)))\n",
    "# This turns te whole thing into a one liner you can write quickly\n",
    "def number_stringer(integer):\n",
    "    if isinstance(integer,int):\n",
    "        string = str(integer)\n",
    "        return string + ' is a number that exists'\n",
    "    elif isinstance(integer,float):\n",
    "        string = str(integer) + ' is not a whole number'\n",
    "        return string\n",
    "print(list(map(number_stringer,nums)))\n",
    "# filter is another function that takes in a function that returns a boolean and a list, and prints out a list\n",
    "# that contains the elements of the list that when run through it return a True vale\n",
    "names_nums = ['Mike', 'Nicole', 8, 'Rachel', 9, 'Mike', 'Ethan']\n",
    "print(list(filter(lambda n: isinstance(n, str),names_nums)))\n",
    "# You can also nest for loops using list comprehensions, in this case you are running a for loop to append each\n",
    "# number in nums to a name in names, within a for loop that runs through every name in names. Iterating over the \n",
    "# names list encapsulating the iteration over the nums list\n",
    "print([(name, num) for name in names for num in nums])\n",
    "# This also works for maing dictionaries, which is extremely useful if oyu need to make a dictionary out of \n",
    "# multiple lists. zip() helps you do this by returning a tuple of pairs out of the lists that are fed to it\n",
    "enhancers = ['Radical', 'Extreme', 'Giant', 'Epic', 'Awesome']\n",
    "enhanced_names = {enhancer : name for enhancer, name in zip(enhancers,names)}\n",
    "print(enhanced_names)"
   ]
  },
  {
   "cell_type": "code",
   "execution_count": 34,
   "metadata": {},
   "outputs": [
    {
     "name": "stdout",
     "output_type": "stream",
     "text": [
      "[-9, -8, -7, -6, -5, -4, -3, -2, -1, 1, 2, 3, 4, 5, 6, 7, 8, 9]\n",
      "[8, 7, 6, 4, 5, 3, 9, 1, 2, -2, -1, -8, -5, -3, -4, -6, -9, -7]\n",
      "None\n",
      "[-9, -8, -7, -6, -5, -4, -3, -2, -1, 1, 2, 3, 4, 5, 6, 7, 8, 9]\n",
      "['age', 'brand', 'milleage']\n",
      "[-1, 1, -2, 2, -3, 3, -4, 4, -5, 5, -6, 6, -7, 7, -8, 8, -9, 9]\n",
      "['pear', 'beef', 'pork', 'mango', 'banana', 'orange', 'chicken', 'pineapple']\n"
     ]
    }
   ],
   "source": [
    "# Sorting in Python\n",
    "# Sorting is very important for moving, organizing, and manipulating data in python, the simplest thing to sort is\n",
    "# integers, since that can be done just with the sorted() function or just the .sort method. Impotant to note that\n",
    "# the function returns a list from any iteratable it is fed, while the method modifies the object and returns \"None\"\n",
    "foods_set = {'pork', 'beef', 'chicken', 'pineapple', 'pear', 'orange', 'banana', 'mango'}\n",
    "nums = [8, 7, 6, 4, 5, 3, 9, 1, 2, -2, -1, -8, -5, -3, -4, -6 ,-9, -7]\n",
    "sorted_nums = sorted(nums)\n",
    "print(sorted_nums)\n",
    "print(nums)\n",
    "print(nums.sort())\n",
    "print(nums)\n",
    "# The sorted() function can also be modifed by setting certain parameters within it to true, for details on what\n",
    "# it can do use help(sorted). \n",
    "# If you use sorted() on a dictionary it just returns the keys of the dictionary in alphabetical order\n",
    "car = {'brand': 'Toyota', 'age': 5, 'milleage': '10000'}\n",
    "sorted_car = sorted(car)\n",
    "print(sorted_car)\n",
    "# The most important part of the sorted() function is the custom sorting criteria function, which you can added\n",
    "# in the function parameters\n",
    "print(sorted(nums, key=abs))\n",
    "# here we use the abs() function to sort based on the absolute value of the integers in the nums list\n",
    "print(sorted(foods_set, key=len))\n",
    "# here we see the len() funciton being used to sort the set of strings into a list in the order of their length"
   ]
  }
 ],
 "metadata": {
  "kernelspec": {
   "display_name": ".venv",
   "language": "python",
   "name": "python3"
  },
  "language_info": {
   "codemirror_mode": {
    "name": "ipython",
    "version": 3
   },
   "file_extension": ".py",
   "mimetype": "text/x-python",
   "name": "python",
   "nbconvert_exporter": "python",
   "pygments_lexer": "ipython3",
   "version": "3.12.0"
  }
 },
 "nbformat": 4,
 "nbformat_minor": 2
}
