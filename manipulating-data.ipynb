{
 "cells": [
  {
   "cell_type": "code",
   "execution_count": 1,
   "metadata": {},
   "outputs": [
    {
     "name": "stdout",
     "output_type": "stream",
     "text": [
      "local x\n",
      "global x\n",
      "new global x\n",
      "3\n"
     ]
    }
   ],
   "source": [
    "# File with general important information regarding the manipulation of data in python, writing functions, etc...\n",
    "# Variable Scope is what determines where variables can be accessed from in the program and their values\n",
    "# LEGB \n",
    "# Local: A variable defined within a function\n",
    "# Enclosing: In the local scope of an enclosing function\n",
    "# Global: Defined at the top of a module or defined with the \"global\" keyword\n",
    "# Built-in: preassigned in python\n",
    "# Python checks the values of variables in this order, such that if its defined in multiple places it grabs the\n",
    "# one higher in the hierarchy\n",
    "\n",
    "x = 'global x'\n",
    "\n",
    "def legb_test():\n",
    "    y = 'local y'\n",
    "    x = 'local x'\n",
    "    print(x)\n",
    "    \n",
    "legb_test()\n",
    "print(x)\n",
    "# print(y) does not work because the local variable y only exists within the function it is defined, being outside\n",
    "# the function this print cant see it. Alternatively you can set a global variable within a function\n",
    "\n",
    "def global_setter():\n",
    "    global x\n",
    "    x = 'new global x'\n",
    "    \n",
    "global_setter()\n",
    "print(x)\n",
    "\n",
    "# a built-in is a value that is built into the system, such as the variables found within a built-in function \n",
    "# like \"min\"\n",
    "z = min([3,8,5,66,24,875])\n",
    "print(z)\n",
    "\n",
    "# Enclosed refers to the values of variables defined in functions nested in other functions, its basically just \n",
    "# hierarchy levels to Local variables, with the variables deeper in the nesting having lower priority. It checks\n",
    "# if it has values within the local scope of functions that enclose it if it doesnt have its own local value. \n",
    "# Same as \"global x\" you could use \"nonlocal x\" to make a variable in an enclosed function affect all definitions\n",
    "# of x within the enclosing function without affecting anything outside the purview of said functions"
   ]
  },
  {
   "cell_type": "code",
   "execution_count": 7,
   "metadata": {},
   "outputs": [
    {
     "name": "stdout",
     "output_type": "stream",
     "text": [
      "11\n",
      "66\n",
      "[11, 44]\n",
      "This is not a Palindrome\n",
      "emordnilaP a ton si sihT\n"
     ]
    }
   ],
   "source": [
    "# Slicing Lists: A way to extract specific elements from lists and strings\n",
    "my_list = [11, 22, 33, 44, 55, 66, 77]\n",
    "print (my_list[0])\n",
    "# It is incredibly simply, you just use [] for determining which index address within the list or string  you are\n",
    "# refering to, the only thing really worth noting is that you can use negative numbers to go from the end of the\n",
    "# list towards the start, with the last address being -1 and that you can call multiple indexes using x:y:step\n",
    "print(my_list[-2])\n",
    "print(my_list[0:6:3])\n",
    "# this can also be useful to do tricks like reversing a list or string, or editing in our out parts of it\n",
    "sample_string = 'This is not a Palindrome'\n",
    "reversed_sample = sample_string[::-1]\n",
    "print(sample_string)\n",
    "print(reversed_sample)"
   ]
  }
 ],
 "metadata": {
  "kernelspec": {
   "display_name": ".venv",
   "language": "python",
   "name": "python3"
  },
  "language_info": {
   "codemirror_mode": {
    "name": "ipython",
    "version": 3
   },
   "file_extension": ".py",
   "mimetype": "text/x-python",
   "name": "python",
   "nbconvert_exporter": "python",
   "pygments_lexer": "ipython3",
   "version": "3.12.0"
  }
 },
 "nbformat": 4,
 "nbformat_minor": 2
}
