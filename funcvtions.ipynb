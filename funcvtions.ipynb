{
 "cells": [
  {
   "cell_type": "code",
   "execution_count": 6,
   "metadata": {},
   "outputs": [
    {
     "name": "stdout",
     "output_type": "stream",
     "text": [
      "HELLO PLACEHOLDER\n",
      "('Shotput', '100 meter dash', 'Relay Race')\n",
      "{'name': 'Sevica Smith', 'country': 'Luxemburg', 'age': 18}\n",
      "////////////////////////////////////////\n",
      "('Relay Race', 'Weightlifting', '100 meter dash')\n",
      "{'name': 'Carolina Wilson', 'country': 'United States', 'age': 19}\n"
     ]
    }
   ],
   "source": [
    "# Place for storing useful functions I come up with as I work on various projects\n",
    "# Functions are little blackboxes of code, you feed it an input and it gives you an output, when calling a function\n",
    "# consider it to be effectively the output of itself in syntax, for example if a function returns a string you can\n",
    "# use methods on it to alter it, you can also set a default value in a function definition\n",
    "# Example function\n",
    "def say_hello(name = 'Placeholder'):\n",
    "    return 'hello {}'.format(name)\n",
    "\n",
    "print(say_hello().upper())\n",
    "\n",
    "# Positional arguments *args and **kwargs, these allow you to take an arbitrary number of inputs, it doesn't have to \n",
    "# be args and kwargs, but convention is useful when writing code. the args prints out a tuple with our positional arguments \n",
    "# and our kwargs are a dictionary. Overall useful method for feeding a tuple or a dictionary into a function without \n",
    "# having to write out a long definition in the function. Remember positionals must go before keyword arguments, \n",
    "# or you get an error\n",
    "def competitor_info(*events, **information):\n",
    "    print(events)\n",
    "    print(information)\n",
    "competitor_info('Shotput', '100 meter dash', 'Relay Race', name = 'Sevica Smith', country = 'Luxemburg', age = 18)\n",
    "print('////////////////////////////////////////')\n",
    "# You can also feed a tuple or dictionary into a function with the * and ** format to make it unpack the contents \n",
    "# and process them as individual positional arguments. Otherwise if you didn't use hte * it would print out the tuple \n",
    "# and set as a single individual argument\n",
    "competitor_events = ('Relay Race', 'Weightlifting', '100 meter dash')\n",
    "competitor_data = {'name':'Carolina Wilson', 'country':'United States','age':19 }\n",
    "competitor_info(*competitor_events, **competitor_data)\n"
   ]
  }
 ],
 "metadata": {
  "kernelspec": {
   "display_name": ".venv",
   "language": "python",
   "name": "python3"
  },
  "language_info": {
   "codemirror_mode": {
    "name": "ipython",
    "version": 3
   },
   "file_extension": ".py",
   "mimetype": "text/x-python",
   "name": "python",
   "nbconvert_exporter": "python",
   "pygments_lexer": "ipython3",
   "version": "3.12.0"
  }
 },
 "nbformat": 4,
 "nbformat_minor": 2
}
