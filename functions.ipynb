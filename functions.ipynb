{
 "cells": [
  {
   "cell_type": "code",
   "execution_count": null,
   "metadata": {},
   "outputs": [
    {
     "name": "stdout",
     "output_type": "stream",
     "text": [
      "HELLO PLACEHOLDER\n",
      "('Shotput', '100 meter dash', 'Relay Race')\n",
      "{'name': 'Sevica Smith', 'country': 'Luxemburg', 'age': 18}\n",
      "////////////////////////////////////////\n",
      "('Relay Race', 'Weightlifting', '100 meter dash')\n",
      "{'name': 'Carolina Wilson', 'country': 'United States', 'age': 19}\n"
     ]
    }
   ],
   "source": [
    "# Place for storing useful functions I come up with as I work on various projects\n",
    "# Functions are little blackboxes of code, you feed it an input and it gives you an output, when calling a function\n",
    "# consider it to be effectively the output of itself in syntax, for example if a function returns a string you can\n",
    "# use methods on it to alter it, you can also set a default value in a function definition\n",
    "# Example function\n",
    "def say_hello(name = 'Placeholder'):\n",
    "    return 'hello {}'.format(name)\n",
    "\n",
    "print(say_hello().upper())\n",
    "\n",
    "# Positional arguments *args and **kwargs, these allow you to take an arbitrary number of inputs, it doesn't have to \n",
    "# be args and kwargs, but convention is useful when writing code. the args prints out a tuple with our positional arguments \n",
    "# and our kwargs are a dictionary. Overall useful method for feeding a tuple or a dictionary into a function without \n",
    "# having to write out a long definition in the function. Remember positionals must go before keyword arguments, \n",
    "# or you get an error\n",
    "def competitor_info(*events, **information):\n",
    "    print(events)\n",
    "    print(information)\n",
    "competitor_info('Shotput', '100 meter dash', 'Relay Race', name = 'Sevica Smith', country = 'Luxemburg', age = 18)\n",
    "print('////////////////////////////////////////')\n",
    "# You can also feed a tuple or dictionary into a function with the * and ** format to make it unpack the contents \n",
    "# and process them as individual positional arguments. Otherwise if you didn't use hte * it would print out the tuple \n",
    "# and set as a single individual argument\n",
    "competitor_events = ('Relay Race', 'Weightlifting', '100 meter dash')\n",
    "competitor_data = {'name':'Carolina Wilson', 'country':'United States','age':19 }\n",
    "competitor_info(*competitor_events, **competitor_data)\n"
   ]
  },
  {
   "cell_type": "code",
   "execution_count": 4,
   "metadata": {},
   "outputs": [
    {
     "name": "stdout",
     "output_type": "stream",
     "text": [
      "25\n"
     ]
    }
   ],
   "source": [
    "# Lambdas: A lambda is basically a mini-function that you can define usingthe lambda keyword, it can take any\n",
    "# number of arguments but only returns 1 result\n",
    "a = lambda x, y, z : (x + y) * z\n",
    "print(a(2,3,5))"
   ]
  },
  {
   "cell_type": "code",
   "execution_count": 13,
   "metadata": {},
   "outputs": [
    {
     "name": "stdout",
     "output_type": "stream",
     "text": [
      "<filter object at 0x000002142540B5B0>\n"
     ]
    },
    {
     "ename": "TypeError",
     "evalue": "isinstance() arg 2 must be a type, a tuple of types, or a union",
     "output_type": "error",
     "traceback": [
      "\u001b[1;31m---------------------------------------------------------------------------\u001b[0m",
      "\u001b[1;31mTypeError\u001b[0m                                 Traceback (most recent call last)",
      "\u001b[1;32mc:\\Users\\alberto\\Desktop\\Coding\\Python\\hello-python\\functions.ipynb Cell 3\u001b[0m line \u001b[0;36m1\n\u001b[0;32m      <a href='vscode-notebook-cell:/c%3A/Users/alberto/Desktop/Coding/Python/hello-python/functions.ipynb#W2sZmlsZQ%3D%3D?line=7'>8</a>\u001b[0m enhancers \u001b[39m=\u001b[39m [\u001b[39m'\u001b[39m\u001b[39mRadical\u001b[39m\u001b[39m'\u001b[39m, \u001b[39m'\u001b[39m\u001b[39mExtreme\u001b[39m\u001b[39m'\u001b[39m, \u001b[39m'\u001b[39m\u001b[39mGiant\u001b[39m\u001b[39m'\u001b[39m, \u001b[39m'\u001b[39m\u001b[39mEpic\u001b[39m\u001b[39m'\u001b[39m, \u001b[39m'\u001b[39m\u001b[39mAwesome\u001b[39m\u001b[39m'\u001b[39m]\n\u001b[0;32m      <a href='vscode-notebook-cell:/c%3A/Users/alberto/Desktop/Coding/Python/hello-python/functions.ipynb#W2sZmlsZQ%3D%3D?line=8'>9</a>\u001b[0m \u001b[39mprint\u001b[39m(\u001b[39mfilter\u001b[39m(\u001b[39mlambda\u001b[39;00m n: \u001b[39misinstance\u001b[39m(\u001b[39mstr\u001b[39m, n),names))\n\u001b[1;32m---> <a href='vscode-notebook-cell:/c%3A/Users/alberto/Desktop/Coding/Python/hello-python/functions.ipynb#W2sZmlsZQ%3D%3D?line=9'>10</a>\u001b[0m names \u001b[39m=\u001b[39m \u001b[39mlist\u001b[39;49m(\u001b[39mfilter\u001b[39;49m(\u001b[39mlambda\u001b[39;49;00m n: \u001b[39misinstance\u001b[39;49m(\u001b[39mstr\u001b[39;49m, n),names))\n\u001b[0;32m     <a href='vscode-notebook-cell:/c%3A/Users/alberto/Desktop/Coding/Python/hello-python/functions.ipynb#W2sZmlsZQ%3D%3D?line=10'>11</a>\u001b[0m x \u001b[39m=\u001b[39m \u001b[39mmap\u001b[39m(name_enhancer,names,enhancers)\n\u001b[0;32m     <a href='vscode-notebook-cell:/c%3A/Users/alberto/Desktop/Coding/Python/hello-python/functions.ipynb#W2sZmlsZQ%3D%3D?line=11'>12</a>\u001b[0m \u001b[39mprint\u001b[39m(\u001b[39mlist\u001b[39m(x))\n",
      "\u001b[1;32mc:\\Users\\alberto\\Desktop\\Coding\\Python\\hello-python\\functions.ipynb Cell 3\u001b[0m line \u001b[0;36m1\n\u001b[0;32m      <a href='vscode-notebook-cell:/c%3A/Users/alberto/Desktop/Coding/Python/hello-python/functions.ipynb#W2sZmlsZQ%3D%3D?line=7'>8</a>\u001b[0m enhancers \u001b[39m=\u001b[39m [\u001b[39m'\u001b[39m\u001b[39mRadical\u001b[39m\u001b[39m'\u001b[39m, \u001b[39m'\u001b[39m\u001b[39mExtreme\u001b[39m\u001b[39m'\u001b[39m, \u001b[39m'\u001b[39m\u001b[39mGiant\u001b[39m\u001b[39m'\u001b[39m, \u001b[39m'\u001b[39m\u001b[39mEpic\u001b[39m\u001b[39m'\u001b[39m, \u001b[39m'\u001b[39m\u001b[39mAwesome\u001b[39m\u001b[39m'\u001b[39m]\n\u001b[0;32m      <a href='vscode-notebook-cell:/c%3A/Users/alberto/Desktop/Coding/Python/hello-python/functions.ipynb#W2sZmlsZQ%3D%3D?line=8'>9</a>\u001b[0m \u001b[39mprint\u001b[39m(\u001b[39mfilter\u001b[39m(\u001b[39mlambda\u001b[39;00m n: \u001b[39misinstance\u001b[39m(\u001b[39mstr\u001b[39m, n),names))\n\u001b[1;32m---> <a href='vscode-notebook-cell:/c%3A/Users/alberto/Desktop/Coding/Python/hello-python/functions.ipynb#W2sZmlsZQ%3D%3D?line=9'>10</a>\u001b[0m names \u001b[39m=\u001b[39m \u001b[39mlist\u001b[39m(\u001b[39mfilter\u001b[39m(\u001b[39mlambda\u001b[39;00m n: \u001b[39misinstance\u001b[39;49m(\u001b[39mstr\u001b[39;49m, n),names))\n\u001b[0;32m     <a href='vscode-notebook-cell:/c%3A/Users/alberto/Desktop/Coding/Python/hello-python/functions.ipynb#W2sZmlsZQ%3D%3D?line=10'>11</a>\u001b[0m x \u001b[39m=\u001b[39m \u001b[39mmap\u001b[39m(name_enhancer,names,enhancers)\n\u001b[0;32m     <a href='vscode-notebook-cell:/c%3A/Users/alberto/Desktop/Coding/Python/hello-python/functions.ipynb#W2sZmlsZQ%3D%3D?line=11'>12</a>\u001b[0m \u001b[39mprint\u001b[39m(\u001b[39mlist\u001b[39m(x))\n",
      "\u001b[1;31mTypeError\u001b[0m: isinstance() arg 2 must be a type, a tuple of types, or a union"
     ]
    }
   ],
   "source": [
    "# maps: the map function is an inbuilt function that takes another function and a list as arguments, and runs the\n",
    "# argument function over each element of the list in question, again this is a way to avoid having to write for\n",
    "# loops for everything. You also need to convert the map to a list to actually read it or use it\n",
    "def name_enhancer(name, enhancer):\n",
    "    enhanced_name = enhancer + ' ' + name\n",
    "    return enhanced_name\n",
    "names = ['Mike', 'Nicole', 'Jonny', 'Rachel', 'Mike']\n",
    "enhancers = ['Radical', 'Extreme', 'Giant', 'Epic', 'Awesome']\n",
    "x = map(name_enhancer,names,enhancers)\n",
    "print(list(x))\n"
   ]
  }
 ],
 "metadata": {
  "kernelspec": {
   "display_name": ".venv",
   "language": "python",
   "name": "python3"
  },
  "language_info": {
   "codemirror_mode": {
    "name": "ipython",
    "version": 3
   },
   "file_extension": ".py",
   "mimetype": "text/x-python",
   "name": "python",
   "nbconvert_exporter": "python",
   "pygments_lexer": "ipython3",
   "version": "3.12.0"
  }
 },
 "nbformat": 4,
 "nbformat_minor": 2
}
